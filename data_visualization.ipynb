{
 "cells": [
  {
   "cell_type": "markdown",
   "metadata": {},
   "source": [
    "### 1. Load Data"
   ]
  },
  {
   "cell_type": "code",
   "execution_count": 2,
   "metadata": {},
   "outputs": [
    {
     "name": "stdout",
     "output_type": "stream",
     "text": [
      "model\n",
      "human                                        88882\n",
      "machine_continuation_gpt-3.5-trubo            6848\n",
      "machine_continuation_t0_3b                    6793\n",
      "machine_continuation_flan_t5_base             6792\n",
      "machine_continuation_text-davinci-003         6774\n",
      "                                             ...  \n",
      "gen_machine_continuation_opt_13b               607\n",
      "gen_machine_continuation_bloom_7b              588\n",
      "gen_machine_continuation_text-davinci-002      533\n",
      "gen_machine_continuation_gpt_j                 433\n",
      "gen_machine_continuation_gpt_neox              309\n",
      "Name: count, Length: 62, dtype: int64\n"
     ]
    }
   ],
   "source": [
    "data_path = \"data/Deepfake/cross_domains_cross_models/train.csv\"\n",
    "import pandas as pd\n",
    "import os\n",
    "import numpy as np\n",
    "\n",
    "df = pd.read_csv(data_path)\n",
    "pd.set_option('display.max_columns', None)\n",
    "df['model'] = df['src'].apply(lambda x: x.split('_')[1:])\n",
    "df['model'] = df['model'].apply(lambda x: '_'.join(x))\n",
    "count = df['model'].value_counts()\n",
    "print(count)\n"
   ]
  },
  {
   "cell_type": "markdown",
   "metadata": {},
   "source": [
    "### 2. Generate Embedding - Load original RoBERTa "
   ]
  },
  {
   "cell_type": "code",
   "execution_count": null,
   "metadata": {},
   "outputs": [],
   "source": []
  },
  {
   "cell_type": "markdown",
   "metadata": {},
   "source": [
    "### 3. Dimension reduction"
   ]
  },
  {
   "cell_type": "code",
   "execution_count": null,
   "metadata": {},
   "outputs": [],
   "source": []
  },
  {
   "cell_type": "markdown",
   "metadata": {},
   "source": [
    "### 4. Visualization"
   ]
  }
 ],
 "metadata": {
  "kernelspec": {
   "display_name": "detective",
   "language": "python",
   "name": "python3"
  },
  "language_info": {
   "codemirror_mode": {
    "name": "ipython",
    "version": 3
   },
   "file_extension": ".py",
   "mimetype": "text/x-python",
   "name": "python",
   "nbconvert_exporter": "python",
   "pygments_lexer": "ipython3",
   "version": "3.10.16"
  }
 },
 "nbformat": 4,
 "nbformat_minor": 2
}
